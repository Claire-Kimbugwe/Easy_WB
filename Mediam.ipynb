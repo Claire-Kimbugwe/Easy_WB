{
 "cells": [
  {
   "cell_type": "markdown",
   "metadata": {},
   "source": [
    "### Is the word an anagram of a palindrome?\n",
    "\n",
    "A palindrome is a word that reads the same forward and backwards (eg, “racecar”, “tacocat”). An anagram is a rescrambling of a word (eg for “racecar”, you could rescramble this as “arceace”).\n",
    "\n",
    "Determine if the given word is a re-scrambling of a palindrome.\n",
    "\n",
    "The word will only contain lowercase letters, a-z.\n",
    "\n",
    "Don’t Care If It’s Real\n",
    "\n",
    "You don’t need to worry about whether it’s an actual English word or not—just whether a palindrome could be made of it.\n",
    "\n",
    "For example, the word “bcbc” could be rearranged as “bccb”, so this should be true, even though “bccb” isn’t an actual English word.<br>\n",
    "\n",
    "For example:\n",
    "\n",
    "is_anagram_of_palindrome(\"a\")<br>\n",
    "True\n",
    "\n",
    "is_anagram_of_palindrome(\"ab\")<br>\n",
    "False\n",
    "\n",
    "is_anagram_of_palindrome(\"aab\")<br>\n",
    "True"
   ]
  },
  {
   "cell_type": "code",
   "execution_count": 7,
   "metadata": {},
   "outputs": [
    {
     "data": {
      "text/plain": [
       "(True, True, False, True)"
      ]
     },
     "execution_count": 7,
     "metadata": {},
     "output_type": "execute_result"
    }
   ],
   "source": [
    "def AnaOfPalindrone(word):\n",
    "    letters={}\n",
    "    for l in word:\n",
    "        letters[l]= letters.get(l,0)+ 1\n",
    "    value_list = list(letters.values())\n",
    "    return value_list.count(1)<2\n",
    "\n",
    "\n",
    "#Test\n",
    "AnaOfPalindrone('a'), AnaOfPalindrone('aab') , AnaOfPalindrone('ab'),AnaOfPalindrone('aabb')"
   ]
  },
  {
   "cell_type": "markdown",
   "metadata": {},
   "source": [
    "### Given a string, return True or False depending on whether that string has balanced parentheses.\n",
    "\n",
    "For the purposes of this problem, you only need to worry about parentheses (( and )), not other opening-and-closing marks, like curly brackets, square brackets, or angle brackets.\n",
    "\n",
    "For example:\n",
    "\n",
    " has_balanced_parens(\"()\")<br>\n",
    " True\n",
    "\n",
    " has_balanced_parens(\"(Oh Noes!)(\")<br>\n",
    " False\n",
    "\n",
    " has_balanced_parens(\"((There's a bonus open paren here.)\")<br>\n",
    " False\n",
    "\n",
    " has_balanced_parens(\")\")<br>\n",
    " False\n",
    "\n",
    " has_balanced_parens(\"(\")<br>\n",
    " False\n",
    "\n",
    "has_balanced_parens(\"(This has (too many closes.) ) )\")\n",
    "False"
   ]
  },
  {
   "cell_type": "code",
   "execution_count": 9,
   "metadata": {},
   "outputs": [
    {
     "data": {
      "text/plain": [
       "(True, False, False)"
      ]
     },
     "execution_count": 9,
     "metadata": {},
     "output_type": "execute_result"
    }
   ],
   "source": [
    "def balanced(string):\n",
    "    counter =0\n",
    "    for item in string:\n",
    "        if item ==')'and counter == 0:\n",
    "            return False\n",
    "        elif item ==')'and counter !=0:\n",
    "            counter -=1\n",
    "        elif item == '(':\n",
    "            counter +=1\n",
    "    return counter == 0\n",
    "\n",
    "#Test\n",
    "balanced('(this true)'), balanced(')wrong(') ,balanced('(This has (too many closes.) ) )')"
   ]
  },
  {
   "cell_type": "code",
   "execution_count": null,
   "metadata": {},
   "outputs": [],
   "source": []
  }
 ],
 "metadata": {
  "kernelspec": {
   "display_name": "Python 3",
   "language": "python",
   "name": "python3"
  },
  "language_info": {
   "codemirror_mode": {
    "name": "ipython",
    "version": 3
   },
   "file_extension": ".py",
   "mimetype": "text/x-python",
   "name": "python",
   "nbconvert_exporter": "python",
   "pygments_lexer": "ipython3",
   "version": "3.7.1"
  }
 },
 "nbformat": 4,
 "nbformat_minor": 2
}
